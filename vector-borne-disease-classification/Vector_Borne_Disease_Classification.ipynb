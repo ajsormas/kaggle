{
 "cells": [
  {
   "cell_type": "markdown",
   "id": "3faf4203",
   "metadata": {},
   "source": [
    "[Problem Overview](https://www.kaggle.com/competitions/vector-borne-disease-classification-challenge)"
   ]
  },
  {
   "cell_type": "code",
   "execution_count": 11,
   "id": "64b0be57",
   "metadata": {},
   "outputs": [],
   "source": [
    "!kaggle competitions download -c vector-borne-disease-classification-challenge"
   ]
  }
 ],
 "metadata": {
  "kernelspec": {
   "display_name": "Python 3",
   "language": "python",
   "name": "python3"
  },
  "language_info": {
   "codemirror_mode": {
    "name": "ipython",
    "version": 3
   },
   "file_extension": ".py",
   "mimetype": "text/x-python",
   "name": "python",
   "nbconvert_exporter": "python",
   "pygments_lexer": "ipython3",
   "version": "3.12.6"
  }
 },
 "nbformat": 4,
 "nbformat_minor": 5
}
